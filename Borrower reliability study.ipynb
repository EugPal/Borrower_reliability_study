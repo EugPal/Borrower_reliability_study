{
 "cells": [
  {
   "cell_type": "markdown",
   "id": "2f1f4f91-cf19-4e19-ae52-a0dcb7a3fc81",
   "metadata": {
    "tags": []
   },
   "source": [
    "# Borrower Reliability Study"
   ]
  },
  {
   "cell_type": "markdown",
   "id": "44430070-77d5-4af3-a78a-dc6b41b04802",
   "metadata": {},
   "source": [
    "## Project Description"
   ]
  },
  {
   "cell_type": "markdown",
   "id": "653506dc-c808-4f01-9201-fcae3d96661d",
   "metadata": {},
   "source": [
    "The client is the credit department of a bank. The goal is to investigate whether the marital status and number of children of a client have an impact on the timely repayment of a loan. The input data from the bank consists of statistics on the creditworthiness of clients.\n",
    "\n",
    "The research findings will be taken into account when building a credit scoring model, which is a specialized system that assesses the ability of a potential borrower to repay a loan to the bank."
   ]
  },
  {
   "cell_type": "markdown",
   "id": "3dfddf6c-e1bd-40e3-8e7e-b06385421723",
   "metadata": {},
   "source": [
    "### Data Description"
   ]
  },
  {
   "cell_type": "markdown",
   "id": "9afccca6-59da-4b55-89d1-78cca8c46719",
   "metadata": {},
   "source": [
    "`children` - number of children in the family\n",
    "\n",
    "`days_employed` - total days of employment\n",
    "\n",
    "`dob_years` - client's age in years\n",
    "\n",
    "`education` - client's level of education\n",
    "\n",
    "`education_id` - identifier for the level of education\n",
    "\n",
    "`family_status` - marital status\n",
    "\n",
    "`family_status_id` - identifier for the marital status\n",
    "\n",
    "`gender` - client's gender\n",
    "\n",
    "`income_type` - type of employment\n",
    "\n",
    "`debt` - whether the client had a debt in loan repayment\n",
    "\n",
    "`total_income` - monthly income\n",
    "\n",
    "`purpose` - purpose of obtaining a loan"
   ]
  },
  {
   "cell_type": "markdown",
   "id": "195fd918-42e9-42f6-8b27-6a25fb47deb8",
   "metadata": {},
   "source": [
    "### Tasks"
   ]
  },
  {
   "cell_type": "markdown",
   "id": "78c06233-8952-49a2-b344-b3d05c67910d",
   "metadata": {},
   "source": [
    "**Task 1.** Is there a correlation between the number of children and loan repayment on time?\n",
    "\n",
    "**Task 2.** Is there a correlation between marital status and loan repayment on time?\n",
    "\n",
    "**Task 3.** Is there a correlation between income level and loan repayment on time?\n",
    "\n",
    "**Task 4.** How do different loan purposes affect timely repayment?\n",
    "\n",
    "**Task 5.** Provide possible reasons for the presence of missing values in the original data.\n",
    "\n",
    "**Task 6.** Explain why filling in missing values with the median is the best solution for quantitative variables."
   ]
  },
  {
   "cell_type": "markdown",
   "id": "0d03b7b5-3ec6-445f-aa6e-e2bc18531ea0",
   "metadata": {},
   "source": [
    "## Data research"
   ]
  },
  {
   "cell_type": "code",
   "execution_count": 41,
   "id": "e7ff2a03-641e-4d3d-bd69-35655c942cbc",
   "metadata": {},
   "outputs": [],
   "source": [
    "import pandas as pd\n",
    "import seaborn as sn\n",
    "\n",
    "try:\n",
    "    data = pd.read_csv('/datasets/data.csv')\n",
    "except:\n",
    "    data = pd.read_csv('https://code.s3.yandex.net/datasets/data.csv')"
   ]
  },
  {
   "cell_type": "code",
   "execution_count": 42,
   "id": "843fbcf6-6910-4bf6-a4d2-99af2cb95909",
   "metadata": {},
   "outputs": [
    {
     "data": {
      "text/html": [
       "<div>\n",
       "<style scoped>\n",
       "    .dataframe tbody tr th:only-of-type {\n",
       "        vertical-align: middle;\n",
       "    }\n",
       "\n",
       "    .dataframe tbody tr th {\n",
       "        vertical-align: top;\n",
       "    }\n",
       "\n",
       "    .dataframe thead th {\n",
       "        text-align: right;\n",
       "    }\n",
       "</style>\n",
       "<table border=\"1\" class=\"dataframe\">\n",
       "  <thead>\n",
       "    <tr style=\"text-align: right;\">\n",
       "      <th></th>\n",
       "      <th>children</th>\n",
       "      <th>days_employed</th>\n",
       "      <th>dob_years</th>\n",
       "      <th>education</th>\n",
       "      <th>education_id</th>\n",
       "      <th>family_status</th>\n",
       "      <th>family_status_id</th>\n",
       "      <th>gender</th>\n",
       "      <th>income_type</th>\n",
       "      <th>debt</th>\n",
       "      <th>total_income</th>\n",
       "      <th>purpose</th>\n",
       "    </tr>\n",
       "  </thead>\n",
       "  <tbody>\n",
       "    <tr>\n",
       "      <th>0</th>\n",
       "      <td>1</td>\n",
       "      <td>-8437.673028</td>\n",
       "      <td>42</td>\n",
       "      <td>высшее</td>\n",
       "      <td>0</td>\n",
       "      <td>женат / замужем</td>\n",
       "      <td>0</td>\n",
       "      <td>F</td>\n",
       "      <td>сотрудник</td>\n",
       "      <td>0</td>\n",
       "      <td>253875.639453</td>\n",
       "      <td>покупка жилья</td>\n",
       "    </tr>\n",
       "    <tr>\n",
       "      <th>1</th>\n",
       "      <td>1</td>\n",
       "      <td>-4024.803754</td>\n",
       "      <td>36</td>\n",
       "      <td>среднее</td>\n",
       "      <td>1</td>\n",
       "      <td>женат / замужем</td>\n",
       "      <td>0</td>\n",
       "      <td>F</td>\n",
       "      <td>сотрудник</td>\n",
       "      <td>0</td>\n",
       "      <td>112080.014102</td>\n",
       "      <td>приобретение автомобиля</td>\n",
       "    </tr>\n",
       "    <tr>\n",
       "      <th>2</th>\n",
       "      <td>0</td>\n",
       "      <td>-5623.422610</td>\n",
       "      <td>33</td>\n",
       "      <td>Среднее</td>\n",
       "      <td>1</td>\n",
       "      <td>женат / замужем</td>\n",
       "      <td>0</td>\n",
       "      <td>M</td>\n",
       "      <td>сотрудник</td>\n",
       "      <td>0</td>\n",
       "      <td>145885.952297</td>\n",
       "      <td>покупка жилья</td>\n",
       "    </tr>\n",
       "    <tr>\n",
       "      <th>3</th>\n",
       "      <td>3</td>\n",
       "      <td>-4124.747207</td>\n",
       "      <td>32</td>\n",
       "      <td>среднее</td>\n",
       "      <td>1</td>\n",
       "      <td>женат / замужем</td>\n",
       "      <td>0</td>\n",
       "      <td>M</td>\n",
       "      <td>сотрудник</td>\n",
       "      <td>0</td>\n",
       "      <td>267628.550329</td>\n",
       "      <td>дополнительное образование</td>\n",
       "    </tr>\n",
       "    <tr>\n",
       "      <th>4</th>\n",
       "      <td>0</td>\n",
       "      <td>340266.072047</td>\n",
       "      <td>53</td>\n",
       "      <td>среднее</td>\n",
       "      <td>1</td>\n",
       "      <td>гражданский брак</td>\n",
       "      <td>1</td>\n",
       "      <td>F</td>\n",
       "      <td>пенсионер</td>\n",
       "      <td>0</td>\n",
       "      <td>158616.077870</td>\n",
       "      <td>сыграть свадьбу</td>\n",
       "    </tr>\n",
       "  </tbody>\n",
       "</table>\n",
       "</div>"
      ],
      "text/plain": [
       "   children  days_employed  dob_years education  education_id  \\\n",
       "0         1   -8437.673028         42    высшее             0   \n",
       "1         1   -4024.803754         36   среднее             1   \n",
       "2         0   -5623.422610         33   Среднее             1   \n",
       "3         3   -4124.747207         32   среднее             1   \n",
       "4         0  340266.072047         53   среднее             1   \n",
       "\n",
       "      family_status  family_status_id gender income_type  debt   total_income  \\\n",
       "0   женат / замужем                 0      F   сотрудник     0  253875.639453   \n",
       "1   женат / замужем                 0      F   сотрудник     0  112080.014102   \n",
       "2   женат / замужем                 0      M   сотрудник     0  145885.952297   \n",
       "3   женат / замужем                 0      M   сотрудник     0  267628.550329   \n",
       "4  гражданский брак                 1      F   пенсионер     0  158616.077870   \n",
       "\n",
       "                      purpose  \n",
       "0               покупка жилья  \n",
       "1     приобретение автомобиля  \n",
       "2               покупка жилья  \n",
       "3  дополнительное образование  \n",
       "4             сыграть свадьбу  "
      ]
     },
     "execution_count": 42,
     "metadata": {},
     "output_type": "execute_result"
    }
   ],
   "source": [
    "data.head()"
   ]
  },
  {
   "cell_type": "code",
   "execution_count": 43,
   "id": "b5643d26-ca1c-4d5c-bdc4-28c2f5897c4f",
   "metadata": {},
   "outputs": [
    {
     "name": "stdout",
     "output_type": "stream",
     "text": [
      "<class 'pandas.core.frame.DataFrame'>\n",
      "RangeIndex: 21525 entries, 0 to 21524\n",
      "Data columns (total 12 columns):\n",
      " #   Column            Non-Null Count  Dtype  \n",
      "---  ------            --------------  -----  \n",
      " 0   children          21525 non-null  int64  \n",
      " 1   days_employed     19351 non-null  float64\n",
      " 2   dob_years         21525 non-null  int64  \n",
      " 3   education         21525 non-null  object \n",
      " 4   education_id      21525 non-null  int64  \n",
      " 5   family_status     21525 non-null  object \n",
      " 6   family_status_id  21525 non-null  int64  \n",
      " 7   gender            21525 non-null  object \n",
      " 8   income_type       21525 non-null  object \n",
      " 9   debt              21525 non-null  int64  \n",
      " 10  total_income      19351 non-null  float64\n",
      " 11  purpose           21525 non-null  object \n",
      "dtypes: float64(2), int64(5), object(5)\n",
      "memory usage: 2.0+ MB\n"
     ]
    }
   ],
   "source": [
    "data.info()"
   ]
  },
  {
   "cell_type": "markdown",
   "id": "5d96e9e3-d756-4502-80dd-7e16e2589a12",
   "metadata": {},
   "source": [
    "**Conclusion:**\n",
    "`The data contains missing values and outliers. Let's process them.`"
   ]
  },
  {
   "cell_type": "markdown",
   "id": "1de71e39-ddb9-4131-af47-a16153069ef1",
   "metadata": {},
   "source": [
    "## Data preprocessing"
   ]
  },
  {
   "cell_type": "markdown",
   "id": "9b5519ee-0a7a-44c1-bc18-c83207240228",
   "metadata": {},
   "source": [
    "**Processing the gaps**"
   ]
  },
  {
   "cell_type": "code",
   "execution_count": 44,
   "id": "17d0e410-498d-4042-bb31-4fbfec221fed",
   "metadata": {},
   "outputs": [
    {
     "data": {
      "text/plain": [
       "children               0\n",
       "days_employed       2174\n",
       "dob_years              0\n",
       "education              0\n",
       "education_id           0\n",
       "family_status          0\n",
       "family_status_id       0\n",
       "gender                 0\n",
       "income_type            0\n",
       "debt                   0\n",
       "total_income        2174\n",
       "purpose                0\n",
       "dtype: int64"
      ]
     },
     "execution_count": 44,
     "metadata": {},
     "output_type": "execute_result"
    }
   ],
   "source": [
    "data.isna().sum()"
   ]
  },
  {
   "cell_type": "code",
   "execution_count": 45,
   "id": "29ef29ed-1983-4120-a5e2-ff394d1b3841",
   "metadata": {},
   "outputs": [],
   "source": [
    "for t in data['income_type'].unique():\n",
    "    data.loc[(data['income_type'] == t) & (data['total_income'].isna()), 'total_income'] = \\\n",
    "    data.loc[(data['income_type'] == t), 'total_income'].median()"
   ]
  },
  {
   "cell_type": "code",
   "execution_count": 46,
   "id": "400c6d83-6cfc-4204-80ba-1ab0da389d7f",
   "metadata": {},
   "outputs": [],
   "source": [
    "data['days_employed'] = data['days_employed'].abs()"
   ]
  },
  {
   "cell_type": "markdown",
   "id": "cd5392bb-20c4-40e6-b36a-2c54d34c7039",
   "metadata": {},
   "source": [
    "**Processing abnormal values**"
   ]
  },
  {
   "cell_type": "code",
   "execution_count": 47,
   "id": "e6e8d89b-a426-40de-ab15-184bbd850594",
   "metadata": {},
   "outputs": [],
   "source": [
    "data['days_employed'] = data['days_employed'].abs()"
   ]
  },
  {
   "cell_type": "code",
   "execution_count": 48,
   "id": "bcb36f45-1f4c-4fad-82ac-3fe160dd791e",
   "metadata": {},
   "outputs": [
    {
     "data": {
      "text/plain": [
       "income_type\n",
       "безработный        366413.652744\n",
       "в декрете            3296.759962\n",
       "госслужащий          2689.368353\n",
       "компаньон            1547.382223\n",
       "пенсионер          365213.306266\n",
       "предприниматель       520.848083\n",
       "сотрудник            1574.202821\n",
       "студент               578.751554\n",
       "Name: days_employed, dtype: float64"
      ]
     },
     "execution_count": 48,
     "metadata": {},
     "output_type": "execute_result"
    }
   ],
   "source": [
    "data.groupby('income_type')['days_employed'].agg('median')"
   ]
  },
  {
   "cell_type": "code",
   "execution_count": 49,
   "id": "54fb3bea-9720-44a5-881d-f3803fea3275",
   "metadata": {},
   "outputs": [
    {
     "data": {
      "text/plain": [
       "array([ 1,  0,  3,  2, -1,  4, 20,  5], dtype=int64)"
      ]
     },
     "execution_count": 49,
     "metadata": {},
     "output_type": "execute_result"
    }
   ],
   "source": [
    "data['children'].unique()"
   ]
  },
  {
   "cell_type": "code",
   "execution_count": 50,
   "id": "d8345350-db97-44d3-8e8c-9a18847c0c10",
   "metadata": {},
   "outputs": [],
   "source": [
    "data = data[(data['children'] != -1) & (data['children'] != 20)]"
   ]
  },
  {
   "cell_type": "code",
   "execution_count": 51,
   "id": "0483c3a5-ade2-4b64-920d-04cee5abe793",
   "metadata": {},
   "outputs": [
    {
     "data": {
      "text/plain": [
       "array([1, 0, 3, 2, 4, 5], dtype=int64)"
      ]
     },
     "execution_count": 51,
     "metadata": {},
     "output_type": "execute_result"
    }
   ],
   "source": [
    "data['children'].unique()"
   ]
  },
  {
   "cell_type": "markdown",
   "id": "74558e4d-980e-42d7-a147-72178640493b",
   "metadata": {},
   "source": [
    "**Processing the gaps ( continue)**"
   ]
  },
  {
   "cell_type": "code",
   "execution_count": 52,
   "id": "13d2e8e3-75db-4157-bc3d-a6735159209d",
   "metadata": {},
   "outputs": [],
   "source": [
    "for t in data['income_type'].unique():\n",
    "    data.loc[(data['income_type'] == t) & (data['days_employed'].isna()), 'days_employed'] = \\\n",
    "    data.loc[(data['income_type'] == t), 'days_employed'].median()"
   ]
  },
  {
   "cell_type": "code",
   "execution_count": 53,
   "id": "70c55a4e-95a1-4ace-92eb-a448dad882b4",
   "metadata": {},
   "outputs": [
    {
     "data": {
      "text/plain": [
       "children            0\n",
       "days_employed       0\n",
       "dob_years           0\n",
       "education           0\n",
       "education_id        0\n",
       "family_status       0\n",
       "family_status_id    0\n",
       "gender              0\n",
       "income_type         0\n",
       "debt                0\n",
       "total_income        0\n",
       "purpose             0\n",
       "dtype: int64"
      ]
     },
     "execution_count": 53,
     "metadata": {},
     "output_type": "execute_result"
    }
   ],
   "source": [
    "data.isna().sum()"
   ]
  },
  {
   "cell_type": "markdown",
   "id": "18cee49e-dec2-46dd-af72-fd761cea9518",
   "metadata": {},
   "source": [
    "**Data type changing**"
   ]
  },
  {
   "cell_type": "code",
   "execution_count": 54,
   "id": "15ca3938-66cc-44ef-8201-ade63d3e3025",
   "metadata": {},
   "outputs": [],
   "source": [
    "data['total_income'] = data['total_income'].astype(int)"
   ]
  },
  {
   "cell_type": "markdown",
   "id": "034f9671-7ce7-44dd-a79f-394d56d7e7a0",
   "metadata": {},
   "source": [
    "**Processing duplicates**"
   ]
  },
  {
   "cell_type": "code",
   "execution_count": 55,
   "id": "28dc71d5-0939-4417-af03-32fdccb86bba",
   "metadata": {},
   "outputs": [],
   "source": [
    "data['education'] = data['education'].str.lower()"
   ]
  },
  {
   "cell_type": "code",
   "execution_count": 56,
   "id": "bddcb071-1ea0-48f7-aff8-47b6cc0a748f",
   "metadata": {},
   "outputs": [
    {
     "data": {
      "text/plain": [
       "71"
      ]
     },
     "execution_count": 56,
     "metadata": {},
     "output_type": "execute_result"
    }
   ],
   "source": [
    "data.duplicated().sum()"
   ]
  },
  {
   "cell_type": "code",
   "execution_count": 57,
   "id": "0ce6f9ca-49c5-4d29-b7a3-d68d1de2aecb",
   "metadata": {},
   "outputs": [],
   "source": [
    "data = data.drop_duplicates()"
   ]
  },
  {
   "cell_type": "markdown",
   "id": "24ef332d-81c1-4d16-b7eb-f40912d1e5e2",
   "metadata": {},
   "source": [
    "**Data categorisation**"
   ]
  },
  {
   "cell_type": "code",
   "execution_count": 58,
   "id": "1013cb58-23d7-4243-82b7-6978b35498c5",
   "metadata": {},
   "outputs": [],
   "source": [
    "def categorize_income(income):\n",
    "    try:\n",
    "        if 0 <= income <= 30000:\n",
    "            return 'E'\n",
    "        elif 30001 <= income <= 50000:\n",
    "            return 'D'\n",
    "        elif 50001 <= income <= 200000:\n",
    "            return 'C'\n",
    "        elif 200001 <= income <= 1000000:\n",
    "            return 'B'\n",
    "        elif income >= 1000001:\n",
    "            return 'A'\n",
    "    except:\n",
    "        pass"
   ]
  },
  {
   "cell_type": "code",
   "execution_count": 59,
   "id": "0b03e9ca-2619-4d75-8f51-387cc27f7e29",
   "metadata": {},
   "outputs": [],
   "source": [
    "data['total_income_category'] = data['total_income'].apply(categorize_income)"
   ]
  },
  {
   "cell_type": "code",
   "execution_count": 60,
   "id": "8e5a807e-fefc-439f-80d8-f142598f8b2a",
   "metadata": {},
   "outputs": [
    {
     "data": {
      "text/plain": [
       "array(['покупка жилья', 'приобретение автомобиля',\n",
       "       'дополнительное образование', 'сыграть свадьбу',\n",
       "       'операции с жильем', 'образование', 'на проведение свадьбы',\n",
       "       'покупка жилья для семьи', 'покупка недвижимости',\n",
       "       'покупка коммерческой недвижимости', 'покупка жилой недвижимости',\n",
       "       'строительство собственной недвижимости', 'недвижимость',\n",
       "       'строительство недвижимости', 'на покупку подержанного автомобиля',\n",
       "       'на покупку своего автомобиля',\n",
       "       'операции с коммерческой недвижимостью',\n",
       "       'строительство жилой недвижимости', 'жилье',\n",
       "       'операции со своей недвижимостью', 'автомобили',\n",
       "       'заняться образованием', 'сделка с подержанным автомобилем',\n",
       "       'получение образования', 'автомобиль', 'свадьба',\n",
       "       'получение дополнительного образования', 'покупка своего жилья',\n",
       "       'операции с недвижимостью', 'получение высшего образования',\n",
       "       'свой автомобиль', 'сделка с автомобилем',\n",
       "       'профильное образование', 'высшее образование',\n",
       "       'покупка жилья для сдачи', 'на покупку автомобиля', 'ремонт жилью',\n",
       "       'заняться высшим образованием'], dtype=object)"
      ]
     },
     "execution_count": 60,
     "metadata": {},
     "output_type": "execute_result"
    }
   ],
   "source": [
    "data['purpose'].unique()"
   ]
  },
  {
   "cell_type": "code",
   "execution_count": 61,
   "id": "c322d8ec-93b6-4d61-934d-5df1082ed94f",
   "metadata": {},
   "outputs": [],
   "source": [
    "def categorize_purpose(row):\n",
    "    try:\n",
    "        if 'автом' in row:\n",
    "            return 'операции с автомобилем'\n",
    "        elif 'жил' in row or 'недвиж' in row:\n",
    "            return 'операции с недвижимостью'\n",
    "        elif 'свад' in row:\n",
    "            return 'проведение свадьбы'\n",
    "        elif 'образов' in row:\n",
    "            return 'получение образования'\n",
    "    except:\n",
    "        return 'нет категории'"
   ]
  },
  {
   "cell_type": "code",
   "execution_count": 62,
   "id": "13d09318-a9c0-4fdf-a8c8-098c24d99c04",
   "metadata": {},
   "outputs": [],
   "source": [
    "data['purpose_category'] = data['purpose'].apply(categorize_purpose)"
   ]
  },
  {
   "cell_type": "markdown",
   "id": "9ca645d4-4ae7-48cd-87b0-db819bdbb3ff",
   "metadata": {},
   "source": [
    "## Data analysis"
   ]
  },
  {
   "cell_type": "markdown",
   "id": "4699a425-bb22-460f-9a2c-d40f99a6af39",
   "metadata": {},
   "source": [
    "**Task 1.** Is there a correlation between the number of children and loan repayment on time?"
   ]
  },
  {
   "cell_type": "code",
   "execution_count": 63,
   "id": "ed89c5f1-99ef-415e-b70c-c5c3c4c223b7",
   "metadata": {},
   "outputs": [
    {
     "name": "stdout",
     "output_type": "stream",
     "text": [
      "[0.9245617770207935, 0.9076539101497504, 0.905458089668616, 0.9181818181818182, 0.9024390243902439, 1.0]\n",
      "children\n",
      "0    14091\n",
      "1     4808\n",
      "2     2052\n",
      "3      330\n",
      "4       41\n",
      "5        9\n",
      "Name: children, dtype: int64\n",
      "   children_numbers  ratio_list_children\n",
      "0                 0             0.924562\n",
      "1                 1             0.907654\n",
      "2                 2             0.905458\n",
      "3                 3             0.918182\n",
      "4                 4             0.902439\n",
      "5                 5             1.000000\n"
     ]
    },
    {
     "data": {
      "text/plain": [
       "<AxesSubplot:xlabel='ratio_list_children', ylabel='children_numbers'>"
      ]
     },
     "execution_count": 63,
     "metadata": {},
     "output_type": "execute_result"
    },
    {
     "data": {
      "image/png": "[encoded data removed]",
      "text/plain": [
       "<Figure size 432x288 with 1 Axes>"
      ]
     },
     "metadata": {
      "needs_background": "light"
     },
     "output_type": "display_data"
    }
   ],
   "source": [
    "children_numbers = sorted(data['children'].unique()) #отсортируем уникальные значения количества детей по возрастанию\n",
    "ratio_list_children = [] # создадим список с величинами, равными для каждого уникального значения количества детей соотношению количества людей, не имеющих задолженности по кредитам, к общему числу людей.\n",
    "for number in children_numbers:\n",
    "    ratio = data[(data['debt'] == 0)&(data['children'] == number)]['children'].count() / data[data['children'] == number]['children'].count()\n",
    "    ratio_list_children.append(ratio)\n",
    "print(ratio_list_children)\n",
    "\n",
    "print(data.groupby(by='children')['children'].count()) #количество людей по категориям, вспомогательные данные\n",
    "\n",
    "df=pd.DataFrame({'children_numbers':children_numbers, 'ratio_list_children':ratio_list_children}) #создадим датафрейм из двух списков выше\n",
    "print(df)\n",
    "\n",
    "sn.scatterplot(data=df, x='ratio_list_children', y='children_numbers') # построим точечную диаграмму для наглядности"
   ]
  },
  {
   "cell_type": "markdown",
   "id": "611e46e7-4a62-4a2e-852b-b512c4e842cd",
   "metadata": {},
   "source": [
    "**Task 2.** Is there a correlation between marital status and loan repayment on time?"
   ]
  },
  {
   "cell_type": "code",
   "execution_count": 64,
   "id": "e64e86d1-dac0-4805-aa71-979c21e1b05d",
   "metadata": {},
   "outputs": [
    {
     "name": "stdout",
     "output_type": "stream",
     "text": [
      "[0.9243944213359432, 0.9068698597000484, 0.9337539432176656, 0.9293523969722456, 0.9023605150214592]\n",
      "family_status\n",
      "Не женат / не замужем     2796\n",
      "в разводе                 1189\n",
      "вдовец / вдова             951\n",
      "гражданский брак          4134\n",
      "женат / замужем          12261\n",
      "Name: family_status, dtype: int64\n",
      "           family_status  ratio_list_family\n",
      "0        женат / замужем           0.924394\n",
      "1       гражданский брак           0.906870\n",
      "2         вдовец / вдова           0.933754\n",
      "3              в разводе           0.929352\n",
      "4  Не женат / не замужем           0.902361\n"
     ]
    },
    {
     "data": {
      "text/plain": [
       "<AxesSubplot:xlabel='ratio_list_family', ylabel='family_status'>"
      ]
     },
     "execution_count": 64,
     "metadata": {},
     "output_type": "execute_result"
    },
    {
     "data": {
      "image/png": "[encoded data removed]",
      "text/plain": [
       "<Figure size 432x288 with 1 Axes>"
      ]
     },
     "metadata": {
      "needs_background": "light"
     },
     "output_type": "display_data"
    }
   ],
   "source": [
    "family_status = data['family_status'].unique() #отсортируем уникальные значения семейного положения\n",
    "\n",
    "ratio_list_family = [] # создадим список с величинами, равными для каждого уникального значения семейного положения соотношению количества людей, не имеющих задолженности по кредитам, к общему числу людей.\n",
    "for status in family_status:\n",
    "    ratio = data[(data['debt'] == 0)&(data['family_status'] == status)]['family_status'].count() / data[data['family_status'] == status]['family_status'].count()\n",
    "    ratio_list_family.append(ratio)\n",
    "print(ratio_list_family)\n",
    "\n",
    "print(data.groupby(by='family_status')['family_status'].count()) #количество людей по категориям, вспомогательные данные\n",
    "\n",
    "df=pd.DataFrame({'family_status':family_status, 'ratio_list_family':ratio_list_family}) #создадим датафрейм из двух списков выше\n",
    "print(df)\n",
    "\n",
    "sn.scatterplot(data=df, x='ratio_list_family', y='family_status') # построим точечную диаграмму для наглядности"
   ]
  },
  {
   "cell_type": "markdown",
   "id": "0fe7d39c-a6fb-4a3b-aed0-f97be62ccf90",
   "metadata": {},
   "source": [
    "**Task 3.** Is there a correlation between income level and loan repayment on time?"
   ]
  },
  {
   "cell_type": "code",
   "execution_count": 65,
   "id": "9c075f87-3d95-4cd2-b70f-0ce08f19d4ff",
   "metadata": {},
   "outputs": [
    {
     "name": "stdout",
     "output_type": "stream",
     "text": [
      "[0.92, 0.929397686477862, 0.9150179008856227, 0.9398280802292264, 0.9090909090909091]\n",
      "total_income_category\n",
      "A       25\n",
      "B     5014\n",
      "C    15921\n",
      "D      349\n",
      "E       22\n",
      "Name: total_income_category, dtype: int64\n",
      "  total_income_category  ratio_list_category\n",
      "0                     A             0.920000\n",
      "1                     B             0.929398\n",
      "2                     C             0.915018\n",
      "3                     D             0.939828\n",
      "4                     E             0.909091\n"
     ]
    },
    {
     "data": {
      "text/plain": [
       "<AxesSubplot:xlabel='ratio_list_category', ylabel='total_income_category'>"
      ]
     },
     "execution_count": 65,
     "metadata": {},
     "output_type": "execute_result"
    },
    {
     "data": {
      "image/png": "[encoded data removed]",
      "text/plain": [
       "<Figure size 432x288 with 1 Axes>"
      ]
     },
     "metadata": {
      "needs_background": "light"
     },
     "output_type": "display_data"
    }
   ],
   "source": [
    "data['total_income_category'] = data['total_income'].apply(categorize_income)\n",
    "total_income_category = sorted(data['total_income_category'].unique()) #отсортируем уникальные значения семейного положения\n",
    "\n",
    "ratio_list_category = [] # создадим список с величинами, равными для каждого уникального значения семейного положения соотношению количества людей, не имеющих задолженности по кредитам, к общему числу людей.\n",
    "for category in total_income_category:\n",
    "    ratio = data[(data['debt'] == 0)&(data['total_income_category'] == category)]['total_income_category'].count() / data[data['total_income_category'] == category]['total_income_category'].count()\n",
    "    ratio_list_category.append(ratio)\n",
    "print(ratio_list_category)\n",
    "\n",
    "print(data.groupby(by='total_income_category')['total_income_category'].count()) #количество людей по категориям, вспомогательные данные\n",
    "\n",
    "df=pd.DataFrame({'total_income_category':total_income_category, 'ratio_list_category':ratio_list_category}) #создадим датафрейм из двух списков выше\n",
    "print(df)\n",
    "\n",
    "sn.scatterplot(data=df, x='ratio_list_category', y='total_income_category') # построим точечную диаграмму для наглядности"
   ]
  },
  {
   "cell_type": "markdown",
   "id": "a632ec42-fca8-4194-a730-6984a636cc71",
   "metadata": {},
   "source": [
    "**Task 4.** How do different loan purposes affect timely repayment?"
   ]
  },
  {
   "cell_type": "code",
   "execution_count": 66,
   "id": "82ccedd2-4db0-4481-8842-3a384a04b261",
   "metadata": {},
   "outputs": [
    {
     "name": "stdout",
     "output_type": "stream",
     "text": [
      "[0.9274486094316807, 0.9065202150035055, 0.9074724172517553, 0.920881971465629]\n",
      "purpose_category\n",
      "операции с автомобилем       4279\n",
      "операции с недвижимостью    10751\n",
      "получение образования        3988\n",
      "проведение свадьбы           2313\n",
      "Name: purpose_category, dtype: int64\n",
      "           purpose_category  ratio_list_purpose\n",
      "0  операции с недвижимостью            0.927449\n",
      "1    операции с автомобилем            0.906520\n",
      "2     получение образования            0.907472\n",
      "3        проведение свадьбы            0.920882\n"
     ]
    },
    {
     "data": {
      "text/plain": [
       "<AxesSubplot:xlabel='ratio_list_purpose', ylabel='purpose_category'>"
      ]
     },
     "execution_count": 66,
     "metadata": {},
     "output_type": "execute_result"
    },
    {
     "data": {
      "image/png": "[encoded data removed]",
      "text/plain": [
       "<Figure size 432x288 with 1 Axes>"
      ]
     },
     "metadata": {
      "needs_background": "light"
     },
     "output_type": "display_data"
    }
   ],
   "source": [
    "data['purpose_category'] = data['purpose'].apply(categorize_purpose)\n",
    "    \n",
    "purpose_category = data['purpose_category'].unique()\n",
    "\n",
    "ratio_list_purpose = [] # создадим список с величинами, равными для каждого уникального значения семейного положения соотношению количества людей, не имеющих задолженности по кредитам, к общему числу людей.\n",
    "for purpose in purpose_category:\n",
    "    ratio = data[(data['debt'] == 0)&(data['purpose_category'] == purpose)]['purpose_category'].count() / data[data['purpose_category'] == purpose]['purpose_category'].count()\n",
    "    ratio_list_purpose.append(ratio)\n",
    "print(ratio_list_purpose)\n",
    "\n",
    "print(data.groupby(by='purpose_category')['purpose_category'].count()) #количество людей по категориям, вспомогательные данные\n",
    "\n",
    "df=pd.DataFrame({'purpose_category':purpose_category, 'ratio_list_purpose':ratio_list_purpose}) #создадим датафрейм из двух списков выше\n",
    "print(df)\n",
    "\n",
    "sn.scatterplot(data=df, x='ratio_list_purpose', y='purpose_category') # построим точечную диаграмму для наглядности\n"
   ]
  },
  {
   "cell_type": "markdown",
   "id": "b19c09cf-f0c8-4c3e-97a8-145a8b4048e7",
   "metadata": {},
   "source": [
    "**Conclusion:** `If we consider the available samples to be representative, we can say that people are more likely to have no debt on loans taken for real estate operations and weddings (92.7% and 92.1% respectively) compared to loans taken for education or car operations (90.7% and 90.65%).`"
   ]
  },
  {
   "cell_type": "markdown",
   "id": "d4d74a84-2618-4bfe-93bc-fbba244ca9fd",
   "metadata": {},
   "source": [
    "**Task 5.** Provide possible reasons for the presence of missing values in the original data."
   ]
  },
  {
   "cell_type": "markdown",
   "id": "842a1abb-6ab0-46dd-bae9-23c02b9bd92d",
   "metadata": {},
   "source": [
    "**Answer:** `There are missing values in the columns total_income and days_employed. It is possible that the data is missing because banks sometimes grant loans without income and/or employment verification. Additionally, it is worth considering the human factor, as the data may have been intentionally or accidentally not entered.`"
   ]
  },
  {
   "cell_type": "markdown",
   "id": "33d1a0b9-755b-4425-a9f6-39d1110eed95",
   "metadata": {},
   "source": [
    "**Task 6.** Explain why filling in missing values with the median is the best solution for quantitative variables."
   ]
  },
  {
   "cell_type": "markdown",
   "id": "bd598bb2-16f2-4c75-a5c4-cee519b81976",
   "metadata": {},
   "source": [
    "**Answer:** `The median provides a more accurate representation of the central value in a sample because it allows for the exclusion of outliers - values that are too large or too small.`"
   ]
  },
  {
   "cell_type": "markdown",
   "id": "d4d66a1e-2595-4099-b842-07a7086abadc",
   "metadata": {},
   "source": [
    "## Overall Conclusion"
   ]
  },
  {
   "cell_type": "markdown",
   "id": "3c5b76ff-20fb-4bc1-9c8b-cbfcdf09b28c",
   "metadata": {},
   "source": [
    "Number of children: People who have no children or three children are more likely to repay their loans on time (92.5% and 91.8% respectively have no debt) compared to those with two and four children (90.5% and 90.3% respectively). It is noteworthy that all individuals with five children (9 people) have no debt.\n",
    "\n",
    "Marital status: Widows/widowers, individuals who are divorced, and those who are married are more likely to have no debt on their loans (93.4%, 92.9%, and 92.4% respectively) compared to those who are in a civil partnership (90.7%) or unmarried (90.2%).\n",
    "\n",
    "Income level: Let's categorize individuals in the sample based on their income: E: from 0 to 30,000 D: from 30,001 to 50,000 C: from 50,001 to 200,000 B: from 200,001 to 1,000,000 A: 1,000,001 and above. People with income categories D and B are more likely to have no debt on their loans (94% and 92.9% respectively) compared to C (91.5%), A (92%), or E (90.9%).\n",
    "\n",
    "Loan purposes: People who take loans for real estate operations and weddings are more likely to have no debt (92.7% and 92.1% respectively) compared to those for education or car operations (90.7% and 90.65%)."
   ]
  }
 ],
 "metadata": {
  "kernelspec": {
   "display_name": "Python 3 (ipykernel)",
   "language": "python",
   "name": "python3"
  },
  "language_info": {
   "codemirror_mode": {
    "name": "ipython",
    "version": 3
   },
   "file_extension": ".py",
   "mimetype": "text/x-python",
   "name": "python",
   "nbconvert_exporter": "python",
   "pygments_lexer": "ipython3",
   "version": "3.9.5"
  }
 },
 "nbformat": 4,
 "nbformat_minor": 5
}
